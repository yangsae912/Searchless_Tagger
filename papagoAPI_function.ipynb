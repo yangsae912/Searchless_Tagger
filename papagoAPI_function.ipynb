{
  "nbformat": 4,
  "nbformat_minor": 0,
  "metadata": {
    "colab": {
      "provenance": [],
      "authorship_tag": "ABX9TyO0ORX/PycBmuADnr+4j0Ez",
      "include_colab_link": true
    },
    "kernelspec": {
      "name": "python3",
      "display_name": "Python 3"
    },
    "language_info": {
      "name": "python"
    }
  },
  "cells": [
    {
      "cell_type": "markdown",
      "metadata": {
        "id": "view-in-github",
        "colab_type": "text"
      },
      "source": [
        "<a href=\"https://colab.research.google.com/github/yangsae912/Searchless_Tagger/blob/main/papagoAPI_function.ipynb\" target=\"_parent\"><img src=\"https://colab.research.google.com/assets/colab-badge.svg\" alt=\"Open In Colab\"/></a>"
      ]
    },
    {
      "cell_type": "code",
      "execution_count": null,
      "metadata": {
        "id": "TqKGiBB7eTu6"
      },
      "outputs": [],
      "source": [
        "function papagotrans(str_data, source_lang, target_lang) {\n",
        "  var request_url = \"https://openapi.naver.com/v1/papago/n2mt\";\n",
        "  var client_id = \"\"\n",
        "  var client_secret = \"\"\n",
        "  var text = encodeURIComponent(str_data)\n",
        "  var payload_data = \"source=\" + source_lang + \"&target=\" + target_lang + \"&text=\" + text;\n",
        "  var options = {\n",
        "    'method' : 'post',\n",
        "    'headers' : {\n",
        "      \"Content-Type\" : \"application/x-www-form-urlencoded; charset=UTF-8\",\n",
        "      \"X-Naver-Client-Id\" : client_id,\n",
        "      \"X-Naver-Client-Secret\" : client_secret\n",
        "    },\n",
        "    \"payload\" : payload_data\n",
        "  };\n",
        "  var request = UrlFetchApp.fetch(request_url, options);\n",
        "  var ret_temp = JSON.parse(request.getContentText()).message.result.translatedText;\n",
        "  return ret_temp;\n",
        "}\n"
      ]
    }
  ]
}